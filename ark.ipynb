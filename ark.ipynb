{
 "cells": [
  {
   "cell_type": "code",
   "execution_count": 64,
   "metadata": {},
   "outputs": [],
   "source": [
    "import pandas as pd\n",
    "\n",
    "\n",
    "today = pd.read_csv('/Users/Toni/Downloads/ARK_INNOVATION_ETF_ARKK_HOLDINGS (5).csv')\n",
    "yesterday = pd.read_csv('/Users/Toni/Downloads/ARK_INNOVATION_ETF_ARKK_HOLDINGS (4).csv')\n",
    "\n",
    "arkk_today = pd.DataFrame(today)[:-1]\n",
    "arkk_yesterday = pd.DataFrame(yesterday)[:-1]\n",
    "\n",
    "nan_value = float(\"NaN\")\n",
    "arkk_today.replace(\"\", nan_value, inplace=True)\n",
    "arkk_yesterday.replace(\"\", nan_value, inplace=True)\n",
    "\n",
    "arkk_today['shares'] = arkk_today['shares'].str.replace(',', '')\n",
    "arkk_today['shares'] = arkk_today['shares'].astype(int)\n",
    "\n",
    "arkk_yesterday['shares'] = arkk_yesterday['shares'].str.replace(',', '')\n",
    "arkk_yesterday['shares'] = arkk_yesterday['shares'].astype(int)"
   ]
  },
  {
   "cell_type": "code",
   "execution_count": 65,
   "metadata": {},
   "outputs": [
    {
     "name": "stdout",
     "output_type": "stream",
     "text": [
      "TSLA       -3440\n",
      "ZM         28692\n",
      "ROKU      136045\n",
      "TDOC       20982\n",
      "COIN       25980\n",
      "SPOT       -8350\n",
      "U         -15520\n",
      "TWLO       25275\n",
      "EXAS      -23310\n",
      "SQ        110617\n",
      "PATH      144268\n",
      "NTLA      172169\n",
      "SHOP       -1190\n",
      "BEAM       39080\n",
      "CRSP       12010\n",
      "PLTR      363303\n",
      "DKNG      -40558\n",
      "TWTR      -24518\n",
      "FATE      -17248\n",
      "TXG        -5600\n",
      "IRDM      -16770\n",
      "HOOD      447123\n",
      "PD        -20300\n",
      "NVTA       83006\n",
      "PACB      -33598\n",
      "TSP       -19890\n",
      "DNA      2434713\n",
      "TRMB       -6000\n",
      "VCYT      199345\n",
      "SGFY      157714\n",
      "DOCU     -681193\n",
      "TWST       -4900\n",
      "TWOU      -16258\n",
      "SSYS      -12910\n",
      "SKLZ      -47070\n",
      "RBLX       -3010\n",
      "MTLS      -10960\n",
      "EDIT       -7820\n",
      "CERS      -28778\n",
      "BLI       -13480\n",
      "NaN     10881943\n",
      "DDD        -3510\n",
      "CGEN       73994\n",
      "IOVA    -2431329\n",
      "dtype: int64\n"
     ]
    }
   ],
   "source": [
    "for row in arkk_today.iterrows():\n",
    "    todayCompany = arkk_today['ticker'].tolist()\n",
    "    todayShares = arkk_today['shares'].tolist()\n",
    "\n",
    "for row in arkk_yesterday.iterrows():\n",
    "    yesterdayCompany = arkk_yesterday['ticker'].tolist()\n",
    "    yesterdayShares = arkk_yesterday['shares'].tolist()\n",
    "\n",
    "todayDf = dict(zip(todayCompany, todayShares))\n",
    "yesterdayDf = dict(zip(yesterdayCompany, yesterdayShares))\n",
    "\n",
    "shareDiff = {}\n",
    "\n",
    "for key in todayDf.keys():\n",
    "    if key in yesterdayDf:\n",
    "        diff = todayDf[key] - yesterdayDf[key]\n",
    "        shareDiff[key] = diff\n",
    "\n",
    "result = pd.Series(shareDiff)\n",
    "print(result)"
   ]
  },
  {
   "cell_type": "code",
   "execution_count": null,
   "metadata": {},
   "outputs": [],
   "source": []
  },
  {
   "cell_type": "code",
   "execution_count": 70,
   "metadata": {},
   "outputs": [
    {
     "name": "stdout",
     "output_type": "stream",
     "text": [
      "https://api.twelvedata.com/quote?symbol=TSLA&apikey=876bbd7287534ad4875ff68269a4c0d6\n",
      "https://api.twelvedata.com/quote?symbol=ZM&apikey=876bbd7287534ad4875ff68269a4c0d6\n",
      "https://api.twelvedata.com/quote?symbol=ROKU&apikey=876bbd7287534ad4875ff68269a4c0d6\n",
      "https://api.twelvedata.com/quote?symbol=TDOC&apikey=876bbd7287534ad4875ff68269a4c0d6\n",
      "https://api.twelvedata.com/quote?symbol=COIN&apikey=876bbd7287534ad4875ff68269a4c0d6\n",
      "https://api.twelvedata.com/quote?symbol=SPOT&apikey=876bbd7287534ad4875ff68269a4c0d6\n",
      "https://api.twelvedata.com/quote?symbol=U&apikey=876bbd7287534ad4875ff68269a4c0d6\n",
      "https://api.twelvedata.com/quote?symbol=TWLO&apikey=876bbd7287534ad4875ff68269a4c0d6\n",
      "https://api.twelvedata.com/quote?symbol=EXAS&apikey=876bbd7287534ad4875ff68269a4c0d6\n",
      "https://api.twelvedata.com/quote?symbol=SQ&apikey=876bbd7287534ad4875ff68269a4c0d6\n",
      "https://api.twelvedata.com/quote?symbol=PATH&apikey=876bbd7287534ad4875ff68269a4c0d6\n",
      "https://api.twelvedata.com/quote?symbol=NTLA&apikey=876bbd7287534ad4875ff68269a4c0d6\n",
      "https://api.twelvedata.com/quote?symbol=SHOP&apikey=876bbd7287534ad4875ff68269a4c0d6\n",
      "https://api.twelvedata.com/quote?symbol=BEAM&apikey=876bbd7287534ad4875ff68269a4c0d6\n",
      "https://api.twelvedata.com/quote?symbol=CRSP&apikey=876bbd7287534ad4875ff68269a4c0d6\n",
      "https://api.twelvedata.com/quote?symbol=PLTR&apikey=876bbd7287534ad4875ff68269a4c0d6\n",
      "https://api.twelvedata.com/quote?symbol=DKNG&apikey=876bbd7287534ad4875ff68269a4c0d6\n",
      "https://api.twelvedata.com/quote?symbol=TWTR&apikey=876bbd7287534ad4875ff68269a4c0d6\n",
      "https://api.twelvedata.com/quote?symbol=FATE&apikey=876bbd7287534ad4875ff68269a4c0d6\n",
      "https://api.twelvedata.com/quote?symbol=TXG&apikey=876bbd7287534ad4875ff68269a4c0d6\n",
      "https://api.twelvedata.com/quote?symbol=IRDM&apikey=876bbd7287534ad4875ff68269a4c0d6\n",
      "https://api.twelvedata.com/quote?symbol=HOOD&apikey=876bbd7287534ad4875ff68269a4c0d6\n",
      "https://api.twelvedata.com/quote?symbol=PD&apikey=876bbd7287534ad4875ff68269a4c0d6\n",
      "https://api.twelvedata.com/quote?symbol=NVTA&apikey=876bbd7287534ad4875ff68269a4c0d6\n",
      "https://api.twelvedata.com/quote?symbol=PACB&apikey=876bbd7287534ad4875ff68269a4c0d6\n",
      "https://api.twelvedata.com/quote?symbol=TSP&apikey=876bbd7287534ad4875ff68269a4c0d6\n",
      "https://api.twelvedata.com/quote?symbol=DNA&apikey=876bbd7287534ad4875ff68269a4c0d6\n",
      "https://api.twelvedata.com/quote?symbol=TRMB&apikey=876bbd7287534ad4875ff68269a4c0d6\n",
      "https://api.twelvedata.com/quote?symbol=VCYT&apikey=876bbd7287534ad4875ff68269a4c0d6\n",
      "https://api.twelvedata.com/quote?symbol=SGFY&apikey=876bbd7287534ad4875ff68269a4c0d6\n",
      "https://api.twelvedata.com/quote?symbol=DOCU&apikey=876bbd7287534ad4875ff68269a4c0d6\n",
      "https://api.twelvedata.com/quote?symbol=TWST&apikey=876bbd7287534ad4875ff68269a4c0d6\n",
      "https://api.twelvedata.com/quote?symbol=TWOU&apikey=876bbd7287534ad4875ff68269a4c0d6\n",
      "https://api.twelvedata.com/quote?symbol=SSYS&apikey=876bbd7287534ad4875ff68269a4c0d6\n",
      "https://api.twelvedata.com/quote?symbol=SKLZ&apikey=876bbd7287534ad4875ff68269a4c0d6\n",
      "https://api.twelvedata.com/quote?symbol=RBLX&apikey=876bbd7287534ad4875ff68269a4c0d6\n",
      "https://api.twelvedata.com/quote?symbol=MTLS&apikey=876bbd7287534ad4875ff68269a4c0d6\n",
      "https://api.twelvedata.com/quote?symbol=EDIT&apikey=876bbd7287534ad4875ff68269a4c0d6\n",
      "https://api.twelvedata.com/quote?symbol=CERS&apikey=876bbd7287534ad4875ff68269a4c0d6\n",
      "https://api.twelvedata.com/quote?symbol=BLI&apikey=876bbd7287534ad4875ff68269a4c0d6\n",
      "https://api.twelvedata.com/quote?symbol=DDD&apikey=876bbd7287534ad4875ff68269a4c0d6\n",
      "https://api.twelvedata.com/quote?symbol=CGEN&apikey=876bbd7287534ad4875ff68269a4c0d6\n",
      "https://api.twelvedata.com/quote?symbol=IOVA&apikey=876bbd7287534ad4875ff68269a4c0d6\n"
     ]
    }
   ],
   "source": [
    "import requests\n",
    "url = 'https://api.twelvedata.com/quote?symbol='\n",
    "api_key = '&apikey=876bbd7287534ad4875ff68269a4c0d6'\n",
    "\n",
    "responses = []\n",
    "tickers = arkk_today['ticker'].tolist()\n",
    "\n",
    "for i in range(len(tickers)):\n",
    "    if type(tickers[i]) == float:\n",
    "        pass\n",
    "    else:\n",
    "        toSearch = url + tickers[i] + api_key\n",
    "        response = requests.get(toSearch)\n",
    "        responses.append(response.json())\n",
    "        print(toSearch)"
   ]
  },
  {
   "cell_type": "code",
   "execution_count": 71,
   "metadata": {},
   "outputs": [
    {
     "name": "stdout",
     "output_type": "stream",
     "text": [
      "{'TSLA': 1026.95996, 'ZM': 171.60001, 'ROKU': 180.41, 'TDOC': 82.18, 'COIN': 232.33, 'SPOT': 223.58, 'U': 120.38, 'TWLO': 230.2, 'EXAS': 75.66, 'SQ': 141.53999, 'PATH': 39.2, 'NTLA': 105.74, 'SHOP': 1144.47998, 'BEAM': 70.36, 'CRSP': 67.66, 'PLTR': 16.56, 'DKNG': 27.24, 'TWTR': 39.67, 'FATE': 48.31, 'TXG': 127.79, 'IRDM': 40.82, 'HOOD': 15.89, 'PD': 31.91, 'NVTA': 12.55, 'PACB': 16.76, 'TSP': 27.83, 'DNA': 6.82, 'TRMB': 79.14, 'VCYT': 33.58, 'SGFY': 12.95, 'DOCU': 135.92999, 'TWST': 66.74, 'TWOU': 18.83, 'SSYS': 23.82, 'SKLZ': 6.08, 'RBLX': 84.37, 'MTLS': 22.06, 'EDIT': 25.14, 'CERS': 6.01, 'BLI': 9.62, 'DDD': 19.83, 'CGEN': 4.13, 'IOVA': 16.28}\n"
     ]
    }
   ],
   "source": [
    "prices = {}\n",
    "for i in range(len(responses)):\n",
    "    if \"Note\" not in responses[i]:\n",
    "        symbol = responses[i]['symbol']\n",
    "        price = responses[i]['close']\n",
    "        prices[symbol] = float(price)\n",
    "\n",
    "\n",
    "shareDiff\n",
    "print(prices)"
   ]
  },
  {
   "cell_type": "code",
   "execution_count": 72,
   "metadata": {},
   "outputs": [
    {
     "name": "stdout",
     "output_type": "stream",
     "text": [
      "[('DOCU', -92594557.67807001), ('IOVA', -39582036.120000005), ('TSLA', -3532742.2624), ('U', -1868297.5999999999), ('SPOT', -1866893.0), ('EXAS', -1763634.5999999999), ('SHOP', -1361931.1762), ('DKNG', -1104799.92), ('TWTR', -972629.06), ('FATE', -833250.88), ('TXG', -715624.0), ('IRDM', -684551.4), ('PD', -647773.0), ('PACB', -563102.4800000001), ('TSP', -553538.7), ('TRMB', -474840.0), ('TWST', -327026.0), ('SSYS', -307516.2), ('TWOU', -306138.13999999996), ('SKLZ', -286185.6), ('RBLX', -253953.7), ('MTLS', -241777.59999999998), ('EDIT', -196594.80000000002), ('CERS', -172955.78), ('BLI', -129677.59999999999), ('DDD', -69603.29999999999), ('CGEN', 305595.22), ('CRSP', 812596.6), ('NVTA', 1041725.3), ('TDOC', 1724300.7600000002), ('SGFY', 2042396.2999999998), ('BEAM', 2749668.8), ('ZM', 4923547.48692), ('PATH', 5655305.600000001), ('TWLO', 5818305.0), ('PLTR', 6016297.68), ('COIN', 6035933.4), ('VCYT', 6694005.1), ('HOOD', 7104784.470000001), ('SQ', 15656729.07383), ('DNA', 16604742.66), ('NTLA', 18205150.06), ('ROKU', 24543878.45)]\n"
     ]
    }
   ],
   "source": [
    "trade_result = {}\n",
    "\n",
    "for ticker in shareDiff.keys():\n",
    "    if ticker in prices.keys():\n",
    "        trade_result[ticker] = shareDiff[ticker] * prices[ticker]\n",
    "\n",
    "sorted_trade_result = sorted(trade_result.items(), key=lambda x:x[1])\n",
    "\n",
    "print(sorted_trade_result)\n"
   ]
  }
 ],
 "metadata": {
  "interpreter": {
   "hash": "b0fa6594d8f4cbf19f97940f81e996739fb7646882a419484c72d19e05852a7e"
  },
  "kernelspec": {
   "display_name": "Python 3.9.9 64-bit",
   "language": "python",
   "name": "python3"
  },
  "language_info": {
   "codemirror_mode": {
    "name": "ipython",
    "version": 3
   },
   "file_extension": ".py",
   "mimetype": "text/x-python",
   "name": "python",
   "nbconvert_exporter": "python",
   "pygments_lexer": "ipython3",
   "version": "3.9.9"
  },
  "orig_nbformat": 4
 },
 "nbformat": 4,
 "nbformat_minor": 2
}
